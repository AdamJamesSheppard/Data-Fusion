{
 "cells": [
  {
   "attachments": {},
   "cell_type": "markdown",
   "metadata": {},
   "source": [
    "## Sensor Fusion - Multiple Sensor Data Fusion - Gaussian Prior\n",
    "\n",
    "A brief bayesian overview of multiple sensor data fusion, we aim to calculate the reliablility of sensors when fusing data together for a system\n",
    "\n",
    "NB: Notes taken from Murphy's PML 2023 - April\n",
    "\n",
    "- Detail Mathematical Proof \n",
    "\n"
   ]
  },
  {
   "attachments": {},
   "cell_type": "markdown",
   "metadata": {},
   "source": [
    "### Definition Multivariate Gaussian Distribution \n",
    "\n",
    "The Multivariate Normal Probability Density function reads as the following:\n",
    "\n",
    "$$\\mathcal{N}(\\mathbf{y|\\mathbf{\\mathbb{E}[y]};\\Sigma}):=\\frac{1}{(2\\pi)^{D/2}\\sqrt{\\det\\mathbf{\\Sigma}}}\\exp\\left[-\\frac{1}{2}(\\mathbf{y-\\mathbf{\\mathbb{E}[y]}})^{T}\\mathbf{\\Sigma^{-1}}(\\mathbf{y-\\mathbf{\\mathbb{E}[y]})}\\right]$$\n",
    "\n",
    "where we have $\\mathbf{\\Sigma}=\\mathrm{cov[\\mathbf{\\mathit{Y_{i}Y_{j}}}]}$ such that $\\mathbf{y\\in\\mathbb{R}^{\\mathit{D}}},\\mathbf{y}\\sim\\mathcal{N}\\left(\\mathbb{E}[\\mathbf{y}],\\mathbf{\\Sigma}\\right)$ and for any subset of data sampled from the real numbers $\\left\\{ Y_{1},Y_{2},...,Y_{D}\\right\\} \\subseteq\\mathbb{R} $ then we can form a vector $\\mathbf{y}$ which corresponds to each one of these values in $\\left\\{ Y_{1},Y_{2},...,Y_{D}\\right\\}$ for which we call it a d-dimenional random vector. The variance - covariance matrix reads as \n",
    "\n",
    "$$\\mathbf{\\Sigma}=\\left(\\begin{array}{cccc}\n",
    "\\mathbb{V}[Y_{1}] & \\mathrm{cov[\\mathit{Y_{1}Y_{2}}]} & \\cdots & \\mathrm{cov[\\mathit{Y_{1}Y_{D}}]}\\\\\n",
    "\\mathrm{cov[\\mathit{Y_{2}Y_{1}}]} & \\mathbb{V}[Y_{2}] & \\mathrm{\\cdots} & \\mathrm{cov[\\mathit{Y_{2}Y_{D}}]}\\\\\n",
    "\\vdots & \\vdots & \\ddots & \\vdots\\\\\n",
    "\\mathrm{cov[\\mathit{Y_{D}Y_{1}}]} & \\mathrm{cov[\\mathit{Y_{D}Y_{2}}]} & \\cdots & \\mathbb{V}[Y_{D}]\n",
    "\\end{array}\\right)$$\n",
    "\n",
    "**N.B** the variance is on the diagonal since $i = j$ at these points, and ,therefore, in the case of a normal distribution can be replaced with variance $\\sigma$. When i.i.d assumptions are enforced then we duly replace the variance-covariance matrix with $\\mathbf{\\Sigma} = \\sigma \\mathbf{I_{D}}\\in M_{D \\times D}(\\mathbb{R})$, however, note that this assumption can be too restrictive for most applications. "
   ]
  },
  {
   "attachments": {},
   "cell_type": "markdown",
   "metadata": {},
   "source": [
    "### Marginals and Conditionals for the Multivariate Gaussian Distribution - useful soon!\n",
    "\n",
    "Here we have two output vectors $\\mathbf{y_{1}}$ and $\\mathbf{y_{2}}$ which are jointly Gaussian with mean and variance-covariance matrices as follows such that $\\mathbf{\\Sigma^{-1}}$ is called the Precision matrix thus we define the marginals for our distributions as follows \n"
   ]
  },
  {
   "attachments": {},
   "cell_type": "markdown",
   "metadata": {},
   "source": [
    "Here we are using a two dimensional representation of the MVG distribution with the following representations for each variable. The variance-covariance matrix and it's inverse (the Partition/Prescision matrix) are block matrices\n",
    "$$\n",
    "\\mathbb{E}[\\mathbf{y}]=\\left(\\begin{array}{c}\n",
    "\\mathbb{E}[\\mathbf{y_{1}}]\\\\\n",
    "\\mathbb{E}[\\mathbf{y_{2}}]\n",
    "\\end{array}\\right),\\mathbf{\\Sigma}=\\left(\\begin{array}{cc}\n",
    "\\mathbf{\\Sigma_{11}} & \\mathbf{\\Sigma_{12}}\\\\\n",
    "\\mathbf{\\Sigma_{21}} & \\mathbf{\\Sigma_{22}}\n",
    "\\end{array}\\right),\\mathbf{\\Lambda=\\Sigma^{-1}=\\mathbf{\\mathbf{\\left(\\begin{array}{cc}\n",
    "\\mathbf{\\Lambda_{11}} & \\mathbf{\\Lambda_{12}}\\\\\n",
    "\\mathbf{\\Lambda_{21}} & \\mathbf{\\Lambda_{22}}\n",
    "\\end{array}\\right)}}}$$\n",
    "\n",
    "Where the marginals are given by the following \n",
    "\n",
    "$$\\mathbb{P}\\left(\\mathbf{y_{1}}\\right)=\\mathcal{N}\\left(\\mathbf{y_{1}}|\\mathbb{E}[\\mathbf{y_{1}}],\\mathbf{\\Sigma_{11}}\\right)$$\n",
    "\n",
    "$$\\mathbb{P}\\left(\\mathbf{y_{2}}\\right)=\\mathcal{N}\\left(\\mathbf{y_{2}}|\\mathbb{E}[\\mathbf{y_{2}}],\\mathbf{\\Sigma_{22}}\\right)$$\n",
    "\n",
    "With the expected values for each random vector and the diagonal entries of our variance-covariance matrix.\n",
    "\n",
    "We can form a posterior distribution on our distributions as the following conditional probability distribution, from an application of Bayes Rule for conditional probabilities we have\n",
    "\n",
    "$$\\mathbb{P}\\left(\\mathbf{y_{1}|y_{2}}\\right)=\\mathcal{N}\\left(\\mathbf{y_{1}}|\\mathbf{\\mathbb{E}[y_{1}|y_{2}],\\Sigma_{1|2}}\\right)$$\n",
    "\n",
    "Where:\n",
    "\n",
    "$$\\mathbb{E}[\\mathbf{y_{1}|y_{2}}]=\\mathbb{E}[\\mathbf{y_{1}}]+\\mathbf{\\Sigma_{12}\\Sigma_{22}^{-1}(y_{2}-\\mathbb{E}[y_{2}])}$$\n",
    "\n",
    "$$=\\mathbb{E}[\\mathbf{y_{1}}]-\\mathbf{\\Lambda_{11}^{-1}\\Lambda_{12}\\left(y_{2}-\\mathbb{E}[y_{2}]\\right)}$$\n",
    "\n",
    "and, which is computed using the Schur compliment (inverse of block matrix):\n",
    "\n",
    "$$\\mathbf{\\Sigma_{1|2}=\\Sigma_{11}-\\Sigma_{12}\\Sigma_{22}^{-1}\\Sigma_{21}=\\Lambda_{11}^{-1}}$$\n",
    "\n",
    "Therefore, we can use the definition of $\\mathbf{\\Sigma_{1|2}=\\Lambda_{11}^{-1}}$ in the definition of the conditional expectation, for now we have \n",
    "\n",
    "$$\\mathbb{E}[\\mathbf{y_{1}|y_{2}}]\\mathbf{=}\\mathbf{\\Sigma_{1|2}\\left(\\Lambda_{11}\\mathbb{E}[y_{1}]-\\Lambda_{12}\\left(y_{2}-\\mathbb{E}[y_{2}]\\right)\\right)}$$\n",
    "\n",
    "*Proof: see https://statproofbook.github.io/P/mvn-cond.html* "
   ]
  },
  {
   "attachments": {},
   "cell_type": "markdown",
   "metadata": {},
   "source": [
    "## Infering an unknown vector\n",
    "\n",
    "In this scenario, we are considering a random vector, denoted as $z \\in \\mathbb{R}^D$. We lack any prior knowledge or specific information about this vector, including its characteristics or underlying distribution. Consequently, we are unable to derive a posterior distribution, which would typically be obtained by updating a prior distribution with observed data. As a result, we cannot determine the variances or covariances associated with this unknown vector.\n",
    "\n",
    "However, despite the lack of a priori knowledge about $z$, we can still utilize a Gaussian prior on the data. It's important to clarify that in this context, the term 'a priori' refers to the knowledge gained from experience or observation. By assuming a Gaussian prior distribution for the data, we introduce certain initial beliefs or assumptions about its statistical properties before incorporating any specific observed data points.\n",
    "\n",
    "In this specific scenario, let's assume that we have a lack of prior knowledge about the vector $z$. However, we can still utilize a diffuse prior distribution, which reflects high uncertainty and minimal assumptions about $z$. One common choice is to consider a multivariate Gaussian prior with a large covariance matrix that accounts for the uncertainty. To achieve this, we can set the diagonal elements of the covariance matrix $\\mathbf{\\Sigma}$ to large values, such as $\\mathbf{\\Sigma} = \\lambda\\mathbf{I_D}$, where $\\lambda$ represents a large constant and $\\mathbf{I_D}$ is the identity matrix of dimension $D$. This diffuse prior allows us to express our lack of knowledge about the specific statistical properties of $z$ while acknowledging the high uncertainty associated with it.\n",
    "\n",
    "Take $\\mathbb{P}(z) = \\mathcal{N}\\left(\\mathbb{E}[\\mathbf{y_{z}}],\\mathbf{\\Sigma_{z}}\\right)$, if do not know how uncertain we are about the system we can equally assume we know nothing about the expected value, meaning we can assume the mean is zero, that is $\\mathbb{E}[\\mathbf{y_{z}}] = \\mathbf{0}$ thus our assumption is symmetric."
   ]
  },
  {
   "attachments": {},
   "cell_type": "markdown",
   "metadata": {},
   "source": [
    "Suppose we take $N$ noisy i.i.d measurment vectors ,endowed with a Gaussian, of $z$ such that $\\mathbf{y_{n}} \\sim \\mathcal{N}\\left(\\mathbf{z},\\mathbf{\\Sigma_{z}}\\right)$ such that $\\mathbf{y_{\\mathit{n}}}\\in\\mathbb{R^{\\mathit{D}}}$. We show that the likeihood function is a single Gaussian evaluated at the average of the observations, provided the scale factor is $\\frac{1}{N}$. That is to say \n",
    "\n",
    "$$\\mathbb{P}\\left(\\mathcal{D}|\\mathbf{z}\\right)=\\prod_{n=1}^{N}\\mathcal{N}\\left(\\mathbf{y_{n}|z,\\Sigma_{y}}\\right)\\propto\\mathcal{N}\\left(\\mathbf{\\bar{y}|z},\\frac{1}{N}\\mathbf{\\Sigma_{y}}\\right)$$\n",
    "\n",
    "where, \n",
    "$$\\prod_{n=1}^{N}\\mathcal{N}\\left(\\mathbf{y_{n}|z,\\Sigma_{y}}\\right)=\\left(\\frac{1}{(2\\pi)^{D/2}\\sqrt{\\det\\mathbf{\\Sigma}}}\\right)^{N}\\exp\\left[-\\frac{1}{2}\\sum_{n=1}^{N}(\\mathbf{y_{n}-\\mathbf{\\mathbb{E}[y_{n}]}})^{T}\\mathbf{\\Sigma^{-1}}(\\mathbf{y_{n}-\\mathbf{\\mathbb{E}[y_{n}]})}\\right]$$\n",
    "\n",
    "As usual with prodcuts, we take the logarithm to make them easier to deal with, using the power rule for logarithms the log of a product returns the sum of the logarithms. \n",
    "\n",
    "$$\\log\\left(\\mathbb{P}\\left(\\mathcal{D}|\\mathbf{z}\\right)\\right)=\\sum_{n=1}^{N}\\log\\left(\\mathcal{N}\\left(\\mathbf{y_{n}|z,\\Sigma_{y}}\\right)\\right)\\propto\\log\\left(\\mathcal{N}\\left(\\mathbf{\\bar{y}|z},\\frac{1}{N}\\mathbf{\\Sigma_{y}}\\right)\\right)$$"
   ]
  },
  {
   "attachments": {},
   "cell_type": "markdown",
   "metadata": {},
   "source": [
    "In our example we define $$\\mathbb{P}\\left(\\mathcal{D}|\\mathbf{z}\\right)=\\mathbb{P}\\left(\\mathbf{y_{1}|z}\\right)\\mathbb{P}\\left(\\mathbf{y_{2}|z}\\right)$$\n",
    "So let's use it!\n",
    "\n",
    "$$\\log\\left(\\mathbb{P}\\left(\\mathbf{y_{1}|z}\\right)\\mathbb{P}\\left(\\mathbf{y_{2}|z}\\right)\\right)$$\n",
    "\n",
    "Let $N = 2$ giving $$\\left(\\frac{1}{(2\\pi)^{D/2}\\sqrt{\\det\\mathbf{\\Sigma}}}\\right)^{N}\\exp\\left[-\\frac{1}{2}\\sum_{n=1}^{N}(\\mathbf{y-\\mathbf{z}})^{T}\\mathbf{\\Sigma^{-1}}(\\mathbf{y-\\mathbf{z})}\\right]$$\n",
    "Taking the logarithm gives\n",
    "$$\\left(\\frac{1}{(2\\pi)^{D/2}\\sqrt{\\det\\mathbf{\\Sigma}}}\\right)^{2}\\exp\\left[-\\frac{1}{2}(\\mathbf{y_{1}-\\mathbf{z}})^{T}\\mathbf{\\Sigma^{-1}}(\\mathbf{y_{1}-\\mathbf{z})}-\\frac{1}{2}(\\mathbf{y_{2}-\\mathbf{z}})^{T}\\mathbf{\\Sigma^{-1}}(\\mathbf{y_{2}-\\mathbf{z})}\\right]$$\n",
    "letting the constant at the from be some variable, say $A\\in \\mathbb{R}$ then we have\n",
    "$$A-\\frac{1}{2}(\\mathbf{y_{1}-\\mathbf{z}})^{T}\\mathbf{\\Sigma^{-1}}(\\mathbf{y_{1}-\\mathbf{z})}-\\frac{1}{2}(\\mathbf{y_{2}-\\mathbf{z}})^{T}\\mathbf{\\Sigma^{-1}}(\\mathbf{y_{2}-\\mathbf{z})}$$\n",
    "Now expanding the terms on the right and simplifying as follows\n",
    "\n",
    "$$A-\\frac{1}{2}(\\mathbf{y_{1}-\\mathbf{z}})^{T}\\left(\\mathbf{\\Sigma^{-1}}\\mathbf{y_{1}-\\mathbf{\\mathbf{\\Sigma^{-1}}z}}\\right)-\\frac{1}{2}(\\mathbf{y_{2}-\\mathbf{z}})^{T}\\left(\\mathbf{\\Sigma^{-1}}\\mathbf{y_{2}}-\\mathbf{\\Sigma^{-1}}\\mathbf{z}\\right)$$\n",
    "\n",
    "$$=A-\\mathbf{\\frac{1}{2}\\left(z^{T}\\Sigma^{-1}z-2z^{T}\\Sigma^{-1}y_{1}\\right)-\\frac{1}{2}\\left(z^{T}\\Sigma^{-1}z-2z^{T}\\Sigma^{-1}y_{2}\\right)}$$\n",
    "\n",
    "$$=A-\\mathbf{\\frac{1}{2}\\left(2z^{T}\\Sigma^{-1}z-2z^{T}\\Sigma^{-1}(y_{1}+y_{2})\\right)}$$\n",
    "\n",
    "$$=A-\\mathbf{\\frac{1}{2}\\left(2z^{T}\\Sigma^{-1}z-4z^{T}\\Sigma^{-1}{\\bar{\\mathbf{y}}}\\right)}$$\n",
    "\n",
    "$$=A+\\log\\mathcal{N}\\left(\\mathbf{z}|\\mathbf{\\bar{y}},\\frac{\\mathbf{\\Sigma}}{2}\\right)$$\n",
    "Note here that $\\bar{\\mathbf{y}}$ is the usual expected value for $\\mathbf{y}$\n"
   ]
  },
  {
   "attachments": {},
   "cell_type": "markdown",
   "metadata": {},
   "source": [
    "## Data Fusion \n",
    "\n",
    "Now that we have the necessary tools, we can expand our concept of inferring random vectors to estimate the reliability of sensors. This will be crucial before we delve into the Kalman Filter in subsequent examples, as it will allow an observer to understand the performance of their sensors and provide a better explanation of the data received from these sensors, rather than making assumptions based on a random process.\n",
    "\n",
    "Suppose that we have two sensors making measurments of the same object where both of the sensors have different reliabilities. In general, if we have $M$ sensors that make a total of $N_{m}$ measurments, where, $m$ represents a particular sensor, we can form a vector $\\mathbf{y}\\in\\mathbb{R^{\\mathit{N}}}$ such that $$\\mathbf{y} = \\mathbf{y}_{1:N, 1:M}$$ which says that the vector $\\mathbf{y}$ contains all data running up to the total number of measurments $1\\leq n\\leq N$ for a particular sensor $1\\leq m\\leq M$ for any $n,N,m,M\\in\\mathbb{N}$\n",
    "\n",
    "Moving back to our two-sensor example. We can endow a Gaussian prior on each vector $\\mathbf{y_{1}}$ and $\\mathbf{y_{2}}$ to compute the singular posterior distribution $\\mathbb{P}(\\mathbf{z}|\\mathbf{y})$ to give a more complete picture about the system reliability as a whole. Note above we showed that for any two Gaussian distributions we can represent the entire system in a single posterior while knowing nothing about the vector $\\mathbf{z}$, given that we can assume the system data is Gaussian."
   ]
  },
  {
   "attachments": {},
   "cell_type": "markdown",
   "metadata": {},
   "source": [
    "Let our two sensors be endowed with gaussian priors such that $$\\mathbf{y_{1}} \\sim \\mathcal{N}(\\mathbf{z,\\Sigma_{1}})$$ $$\\mathbf{y_{2}} \\sim \\mathcal{N}(\\mathbf{z,\\Sigma_{2}})$$\n",
    "\n",
    "We aim to find a random vector $z$ such that our model is represented by $z$ where $$z \\rightarrow [\\mathbf{y_{1}, y_{2}}]$$ which tell's us that through Gaussian conditioning formulae we can invert the arrow in the generative model from latent variables to observations.\n",
    "\n",
    "We represent this system in the linear gaussian setting, this means we have a model\n",
    "\n",
    "$$\\mathbb{P}\\left(\\mathbf{z,y}\\right) = \\mathbb{P}(\\mathbf{z})\\mathbb{P}(\\mathbf{y|z})$$\n",
    "\n",
    "which is equal to\n",
    "\n",
    "$$\\mathbb{P}\\left(\\mathbf{z,y}\\right)=\\mathbb{P}\\left(\\mathbf{z}\\right)\\prod_{m=1}^{M}\\prod_{n=1}^{N_{m}}\\mathcal{N}\\left(\\mathbf{y_{\\mathit{n,m}}|z,\\Sigma_{\\mathit{m}}}\\right)$$\n",
    "\n",
    "we can represent the posterior distribution using the knowledge above as a normal distribution with matrix $\\mathbf{W}\\in\\mathbb{R^{\\mathit{N \\times M}}}$ such that $$\\mathbb{P}(\\mathbf{y|z}) = \\mathcal{N}(\\mathbf{y|Wz, \\Sigma})$$ where $\\mathbf{W = I}$ and $$\\Sigma=\\left(\\begin{array}{cc}\n",
    "\\mathbf{\\Sigma_{1}} & \\mathbf{0}\\\\\n",
    "\\mathbf{0} & \\mathbf{\\Sigma_{2}}\n",
    "\\end{array}\\right)$$\n",
    "\n",
    "The posterior latent is given by "
   ]
  },
  {
   "cell_type": "code",
   "execution_count": 34,
   "metadata": {},
   "outputs": [
    {
     "data": {
      "image/png": "[encoded data removed]",
      "text/plain": [
       "<Figure size 640x480 with 1 Axes>"
      ]
     },
     "metadata": {},
     "output_type": "display_data"
    }
   ],
   "source": [
    "import numpy as np\n",
    "import matplotlib.pyplot as plt\n",
    "from scipy.stats import multivariate_normal\n",
    "\n",
    "def sensor_data_fusion(sensor1_mean, sensor1_covariance, sensor2_mean, sensor2_covariance):\n",
    "    inv_cov1 = np.linalg.inv(sensor1_covariance)\n",
    "    inv_cov2 = np.linalg.inv(sensor2_covariance)\n",
    "    \n",
    "    combined_covariance = np.linalg.inv(inv_cov1 + inv_cov2)\n",
    "    combined_mean = combined_covariance @ (inv_cov1 @ sensor1_mean + inv_cov2 @ sensor2_mean)\n",
    "    \n",
    "    return combined_mean, combined_covariance\n",
    "\n",
    "# Define the mean and covariance matrix for sensor 1\n",
    "sensor1_mean = np.array([0, -1])\n",
    "sensor1_covariance = np.array([[0.01*10, 0.01*1], [0.01*1, 0.01*1]])\n",
    "\n",
    "# Define the mean and covariance matrix for sensor 2\n",
    "sensor2_mean = np.array([1, 0])\n",
    "sensor2_covariance = np.array([[0.01*1, 0.01*1], [0.01*1, 0.01*10]])\n",
    "\n",
    "combined_mean, combined_covariance = sensor_data_fusion(sensor1_mean, sensor1_covariance, sensor2_mean, sensor2_covariance)\n",
    "\n",
    "# Generate grid points for contour plot\n",
    "x = np.linspace(-3, 3, 100)\n",
    "y = np.linspace(-3, 3, 100)\n",
    "X, Y = np.meshgrid(x, y)\n",
    "pos = np.dstack((X, Y))\n",
    "\n",
    "# Calculate the individual multivariate Gaussian distributions\n",
    "distribution1 = multivariate_normal(sensor1_mean, sensor1_covariance)\n",
    "Z1 = distribution1.pdf(pos)\n",
    "\n",
    "distribution2 = multivariate_normal(sensor2_mean, sensor2_covariance)\n",
    "Z2 = distribution2.pdf(pos)\n",
    "\n",
    "# Calculate the combined multivariate Gaussian distribution\n",
    "combined_distribution = multivariate_normal(combined_mean, combined_covariance)\n",
    "Z_combined = combined_distribution.pdf(pos)\n",
    "\n",
    "# Set custom line styles\n",
    "line_styles = ['-', '--', '-.']\n",
    "\n",
    "# Plot the individual distributions and the combined distribution\n",
    "plt.figure()\n",
    "\n",
    "plt.contourf(X, Y, Z1, cmap='Reds', alpha=0.6, linestyles=line_styles[0], extent=[x.min(), x.max(), y.min(), y.max()])\n",
    "plt.plot(*sensor1_mean, 'ro', label='Sensor 1')\n",
    "\n",
    "plt.contourf(X, Y, Z2, cmap='Blues', alpha=0.6, linestyles=line_styles[1], extent=[x.min(), x.max(), y.min(), y.max()])\n",
    "plt.plot(*sensor2_mean, 'bo', label='Sensor 2')\n",
    "\n",
    "plt.contourf(X, Y, Z_combined, cmap='Greens', alpha=0.6, linestyles=line_styles[2], extent=[x.min(), x.max(), y.min(), y.max()])\n",
    "plt.plot(*combined_mean, 'go', label='Combined')\n",
    "\n",
    "plt.title('Sensor Data Fusion')\n",
    "plt.xlabel('Measurement 1')\n",
    "plt.ylabel('Measurement 2')\n",
    "plt.legend()\n",
    "plt.grid(True)\n",
    "plt.show()\n"
   ]
  },
  {
   "cell_type": "code",
   "execution_count": null,
   "metadata": {},
   "outputs": [],
   "source": []
  }
 ],
 "metadata": {
  "kernelspec": {
   "display_name": "base",
   "language": "python",
   "name": "python3"
  },
  "language_info": {
   "codemirror_mode": {
    "name": "ipython",
    "version": 3
   },
   "file_extension": ".py",
   "mimetype": "text/x-python",
   "name": "python",
   "nbconvert_exporter": "python",
   "pygments_lexer": "ipython3",
   "version": "3.9.13"
  },
  "orig_nbformat": 4
 },
 "nbformat": 4,
 "nbformat_minor": 2
}
